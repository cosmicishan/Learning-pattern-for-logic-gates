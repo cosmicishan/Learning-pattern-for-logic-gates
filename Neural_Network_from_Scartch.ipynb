{
  "nbformat": 4,
  "nbformat_minor": 0,
  "metadata": {
    "colab": {
      "provenance": []
    },
    "kernelspec": {
      "name": "python3",
      "display_name": "Python 3"
    },
    "language_info": {
      "name": "python"
    }
  },
  "cells": [
    {
      "cell_type": "markdown",
      "source": [
        "# Importing Libraries"
      ],
      "metadata": {
        "id": "FNpNlg1JY2xQ"
      }
    },
    {
      "cell_type": "code",
      "source": [
        "import numpy as np\n",
        "import pandas as pd"
      ],
      "metadata": {
        "id": "MZxF7Om7Y1Wc"
      },
      "execution_count": 2,
      "outputs": []
    },
    {
      "cell_type": "markdown",
      "source": [
        "# Building data"
      ],
      "metadata": {
        "id": "J-2lm4hvY89n"
      }
    },
    {
      "cell_type": "markdown",
      "source": [
        "The dataset we gonna train our Neural Network is Logical Gate AND.\n",
        "\n",
        "The output would be '1' if both input 'x1' and 'x2' is 1 else it will be zero if one of the input would be zero."
      ],
      "metadata": {
        "id": "I6CL_zUXZP3K"
      }
    },
    {
      "cell_type": "code",
      "source": [
        "AND = pd.DataFrame({'x1': (0,0,1,1), 'x2': (0,1,0,1), 'y': (0,0,0,1)})\n",
        "AND"
      ],
      "metadata": {
        "colab": {
          "base_uri": "https://localhost:8080/",
          "height": 175
        },
        "id": "NUmk90WxZAYl",
        "outputId": "4882abf3-c588-422f-85cf-1021dae385b2"
      },
      "execution_count": 3,
      "outputs": [
        {
          "output_type": "execute_result",
          "data": {
            "text/plain": [
              "   x1  x2  y\n",
              "0   0   0  0\n",
              "1   0   1  0\n",
              "2   1   0  0\n",
              "3   1   1  1"
            ],
            "text/html": [
              "\n",
              "  <div id=\"df-ce93603c-587e-4e57-a340-93fc31300097\">\n",
              "    <div class=\"colab-df-container\">\n",
              "      <div>\n",
              "<style scoped>\n",
              "    .dataframe tbody tr th:only-of-type {\n",
              "        vertical-align: middle;\n",
              "    }\n",
              "\n",
              "    .dataframe tbody tr th {\n",
              "        vertical-align: top;\n",
              "    }\n",
              "\n",
              "    .dataframe thead th {\n",
              "        text-align: right;\n",
              "    }\n",
              "</style>\n",
              "<table border=\"1\" class=\"dataframe\">\n",
              "  <thead>\n",
              "    <tr style=\"text-align: right;\">\n",
              "      <th></th>\n",
              "      <th>x1</th>\n",
              "      <th>x2</th>\n",
              "      <th>y</th>\n",
              "    </tr>\n",
              "  </thead>\n",
              "  <tbody>\n",
              "    <tr>\n",
              "      <th>0</th>\n",
              "      <td>0</td>\n",
              "      <td>0</td>\n",
              "      <td>0</td>\n",
              "    </tr>\n",
              "    <tr>\n",
              "      <th>1</th>\n",
              "      <td>0</td>\n",
              "      <td>1</td>\n",
              "      <td>0</td>\n",
              "    </tr>\n",
              "    <tr>\n",
              "      <th>2</th>\n",
              "      <td>1</td>\n",
              "      <td>0</td>\n",
              "      <td>0</td>\n",
              "    </tr>\n",
              "    <tr>\n",
              "      <th>3</th>\n",
              "      <td>1</td>\n",
              "      <td>1</td>\n",
              "      <td>1</td>\n",
              "    </tr>\n",
              "  </tbody>\n",
              "</table>\n",
              "</div>\n",
              "      <button class=\"colab-df-convert\" onclick=\"convertToInteractive('df-ce93603c-587e-4e57-a340-93fc31300097')\"\n",
              "              title=\"Convert this dataframe to an interactive table.\"\n",
              "              style=\"display:none;\">\n",
              "        \n",
              "  <svg xmlns=\"http://www.w3.org/2000/svg\" height=\"24px\"viewBox=\"0 0 24 24\"\n",
              "       width=\"24px\">\n",
              "    <path d=\"M0 0h24v24H0V0z\" fill=\"none\"/>\n",
              "    <path d=\"M18.56 5.44l.94 2.06.94-2.06 2.06-.94-2.06-.94-.94-2.06-.94 2.06-2.06.94zm-11 1L8.5 8.5l.94-2.06 2.06-.94-2.06-.94L8.5 2.5l-.94 2.06-2.06.94zm10 10l.94 2.06.94-2.06 2.06-.94-2.06-.94-.94-2.06-.94 2.06-2.06.94z\"/><path d=\"M17.41 7.96l-1.37-1.37c-.4-.4-.92-.59-1.43-.59-.52 0-1.04.2-1.43.59L10.3 9.45l-7.72 7.72c-.78.78-.78 2.05 0 2.83L4 21.41c.39.39.9.59 1.41.59.51 0 1.02-.2 1.41-.59l7.78-7.78 2.81-2.81c.8-.78.8-2.07 0-2.86zM5.41 20L4 18.59l7.72-7.72 1.47 1.35L5.41 20z\"/>\n",
              "  </svg>\n",
              "      </button>\n",
              "      \n",
              "  <style>\n",
              "    .colab-df-container {\n",
              "      display:flex;\n",
              "      flex-wrap:wrap;\n",
              "      gap: 12px;\n",
              "    }\n",
              "\n",
              "    .colab-df-convert {\n",
              "      background-color: #E8F0FE;\n",
              "      border: none;\n",
              "      border-radius: 50%;\n",
              "      cursor: pointer;\n",
              "      display: none;\n",
              "      fill: #1967D2;\n",
              "      height: 32px;\n",
              "      padding: 0 0 0 0;\n",
              "      width: 32px;\n",
              "    }\n",
              "\n",
              "    .colab-df-convert:hover {\n",
              "      background-color: #E2EBFA;\n",
              "      box-shadow: 0px 1px 2px rgba(60, 64, 67, 0.3), 0px 1px 3px 1px rgba(60, 64, 67, 0.15);\n",
              "      fill: #174EA6;\n",
              "    }\n",
              "\n",
              "    [theme=dark] .colab-df-convert {\n",
              "      background-color: #3B4455;\n",
              "      fill: #D2E3FC;\n",
              "    }\n",
              "\n",
              "    [theme=dark] .colab-df-convert:hover {\n",
              "      background-color: #434B5C;\n",
              "      box-shadow: 0px 1px 3px 1px rgba(0, 0, 0, 0.15);\n",
              "      filter: drop-shadow(0px 1px 2px rgba(0, 0, 0, 0.3));\n",
              "      fill: #FFFFFF;\n",
              "    }\n",
              "  </style>\n",
              "\n",
              "      <script>\n",
              "        const buttonEl =\n",
              "          document.querySelector('#df-ce93603c-587e-4e57-a340-93fc31300097 button.colab-df-convert');\n",
              "        buttonEl.style.display =\n",
              "          google.colab.kernel.accessAllowed ? 'block' : 'none';\n",
              "\n",
              "        async function convertToInteractive(key) {\n",
              "          const element = document.querySelector('#df-ce93603c-587e-4e57-a340-93fc31300097');\n",
              "          const dataTable =\n",
              "            await google.colab.kernel.invokeFunction('convertToInteractive',\n",
              "                                                     [key], {});\n",
              "          if (!dataTable) return;\n",
              "\n",
              "          const docLinkHtml = 'Like what you see? Visit the ' +\n",
              "            '<a target=\"_blank\" href=https://colab.research.google.com/notebooks/data_table.ipynb>data table notebook</a>'\n",
              "            + ' to learn more about interactive tables.';\n",
              "          element.innerHTML = '';\n",
              "          dataTable['output_type'] = 'display_data';\n",
              "          await google.colab.output.renderOutput(dataTable, element);\n",
              "          const docLink = document.createElement('div');\n",
              "          docLink.innerHTML = docLinkHtml;\n",
              "          element.appendChild(docLink);\n",
              "        }\n",
              "      </script>\n",
              "    </div>\n",
              "  </div>\n",
              "  "
            ]
          },
          "metadata": {},
          "execution_count": 3
        }
      ]
    },
    {
      "cell_type": "markdown",
      "source": [
        "# Building the network"
      ],
      "metadata": {
        "id": "A6MelSyFZozl"
      }
    },
    {
      "cell_type": "markdown",
      "source": [
        "We start by first intializing random weights which gonna be updated during the process of training. But we choose 3 random weight for the beginning"
      ],
      "metadata": {
        "id": "bCUYSWFNZsbo"
      }
    },
    {
      "cell_type": "code",
      "source": [
        "w = np.random.randn(3)*1e-4"
      ],
      "metadata": {
        "id": "hVnfDHYrZqjk"
      },
      "execution_count": 4,
      "outputs": []
    },
    {
      "cell_type": "markdown",
      "source": [
        "Let's see what weights look like."
      ],
      "metadata": {
        "id": "H6eyWNzSfhnC"
      }
    },
    {
      "cell_type": "code",
      "source": [
        "w"
      ],
      "metadata": {
        "colab": {
          "base_uri": "https://localhost:8080/"
        },
        "id": "4FWoG5U6bHKF",
        "outputId": "1c0dd782-1905-4871-f603-e0452ba834d4"
      },
      "execution_count": 6,
      "outputs": [
        {
          "output_type": "execute_result",
          "data": {
            "text/plain": [
              "array([ 3.78054957e-05, -1.68848826e-04,  7.56758901e-05])"
            ]
          },
          "metadata": {},
          "execution_count": 6
        }
      ]
    },
    {
      "cell_type": "markdown",
      "source": [
        "Here, we define our own activation function with our own logic.\n",
        "\n",
        "It takes data(input) and weight(w) as input and calculate the dot product between both of them. \n",
        "\n",
        "Activation function here works like an output it generates for the final result. If the value at that index of the array is greater than zero then it will set that as 1 else it will set that as 0\n",
        "\n",
        "For ex:\n",
        "\n",
        "If it generates the dor product between weights and data as:\n",
        "[4.5464565476, -1.35435346, 2.3423453, -5.3425435345]\n",
        "\n",
        "Then the output it will give will be:\n",
        "[1, 0, 1, 0]\n",
        "\n",
        "\n"
      ],
      "metadata": {
        "id": "kqtdEI1MZ2Hf"
      }
    },
    {
      "cell_type": "code",
      "source": [
        "g = lambda inputs, weights: np.where(np.dot(inputs, weights)>0, 1, 0)"
      ],
      "metadata": {
        "id": "gOnkcknvZ6LN"
      },
      "execution_count": 7,
      "outputs": []
    },
    {
      "cell_type": "markdown",
      "source": [
        "Now, we define a training function which iterates through the number of iterations provided by user and adjust the weight till it's adpated to the input."
      ],
      "metadata": {
        "id": "Krshig_HbatK"
      }
    },
    {
      "cell_type": "code",
      "source": [
        "def train(data, targets, weights, lr, n_iterations):\n",
        "\n",
        "    # Adding the bias term\n",
        "    data = np.c_[data, -np.ones((len(data), 1))]\n",
        "\n",
        "    for n in range(n_iterations):\n",
        "\n",
        "        activations = g(data, weights);\n",
        "        weights -= lr*np.dot(np.transpose(data), activations - targets)\n",
        "        \n",
        "    return(weights)"
      ],
      "metadata": {
        "id": "NK5d2NWTbaE0"
      },
      "execution_count": 9,
      "outputs": []
    },
    {
      "cell_type": "markdown",
      "source": [
        "First, we add the bias term in our data by adding new columns with all '-1' in it.\n",
        "\n",
        "Then we iterate through the algorithm with number of iterations.\n",
        "\n",
        "We will get the result generated from activation function and we assign it to 'Activation function'\n",
        "\n",
        "Here in activation we will get the input which we substract with actual answer(activation). We can also consider it as an error term as well like `(y - y_hat)`\n",
        "\n",
        "And we update the weight by multiplying the learning rate with dot product between data and loss(activation - target). \n",
        "\n",
        "The weight won't update if we reach the desire output, where activation will be equal to target so their difference would be zero and it won't update any further because it will only substract zero to current weight."
      ],
      "metadata": {
        "id": "e2RKDuSyTG4R"
      }
    },
    {
      "cell_type": "markdown",
      "source": [
        "# Checking Performace"
      ],
      "metadata": {
        "id": "JjS6-AN7dTX5"
      }
    },
    {
      "cell_type": "markdown",
      "source": [
        "We pass data which is independent variable and target which is dependent variable to our network and get the weight which it adjusted during the training.\n",
        "\n",
        "We run it for 10 iteration with learning rate of 0.25"
      ],
      "metadata": {
        "id": "QlLoyjCxdXJ2"
      }
    },
    {
      "cell_type": "code",
      "source": [
        "data = AND[['x1','x2']]\n",
        "target = AND['y']\n",
        "\n",
        "w = train(data, target, w, 0.25, 10)"
      ],
      "metadata": {
        "id": "-tJanl2xdVYw"
      },
      "execution_count": 10,
      "outputs": []
    },
    {
      "cell_type": "markdown",
      "source": [
        "Check the result we get when we mulitply those weight with our data."
      ],
      "metadata": {
        "id": "llmtPifFej8U"
      }
    },
    {
      "cell_type": "code",
      "source": [
        "g(np.c_[data, -np.ones((len(data), 1))], w)"
      ],
      "metadata": {
        "colab": {
          "base_uri": "https://localhost:8080/"
        },
        "id": "yrH7bc_YeGBt",
        "outputId": "9143d86f-8728-458e-db47-1a17986e38ad"
      },
      "execution_count": 16,
      "outputs": [
        {
          "output_type": "execute_result",
          "data": {
            "text/plain": [
              "array([0, 0, 0, 1])"
            ]
          },
          "metadata": {},
          "execution_count": 16
        }
      ]
    },
    {
      "cell_type": "markdown",
      "source": [
        "We get the desired output of the AND gate."
      ],
      "metadata": {
        "id": "SzOiSahgeo3o"
      }
    },
    {
      "cell_type": "markdown",
      "source": [
        "# Visualise the training process"
      ],
      "metadata": {
        "id": "APb5F-TDfARx"
      }
    },
    {
      "cell_type": "markdown",
      "source": [
        "Let's see how it updates the weight at every iteration and check at what iteration it changes it's value when we change the learning rate."
      ],
      "metadata": {
        "id": "l0civ4rXfDop"
      }
    },
    {
      "cell_type": "code",
      "source": [
        "w = np.random.randn(3)*1e-4"
      ],
      "metadata": {
        "id": "kOCsdp-TflYd"
      },
      "execution_count": 34,
      "outputs": []
    },
    {
      "cell_type": "code",
      "source": [
        "def train(data, targets, weights, lr, n_iterations):\n",
        "\n",
        "    # Adding the bias term\n",
        "    data = np.c_[data, -np.ones((len(data), 1))]\n",
        "    print('Output and Weights at particular iteration: ')\n",
        "    for n in range(n_iterations):\n",
        "\n",
        "        activations = g(data, weights)\n",
        "        weights -= lr*np.dot(np.transpose(data), activations - targets)\n",
        "        print(n)\n",
        "        print(\"Output: \", activations, \"Weights: \", weights)\n",
        "        print()\n",
        "        \n",
        "    return(weights)"
      ],
      "metadata": {
        "id": "TJ_FB5_7fKze"
      },
      "execution_count": 35,
      "outputs": []
    },
    {
      "cell_type": "code",
      "source": [
        "w = train(data, target, w, 0.25, 10)"
      ],
      "metadata": {
        "colab": {
          "base_uri": "https://localhost:8080/"
        },
        "id": "vmGaUA6gfY8O",
        "outputId": "aee61193-61b3-496f-e2aa-0d899599eaf6"
      },
      "execution_count": 36,
      "outputs": [
        {
          "output_type": "stream",
          "name": "stdout",
          "text": [
            "Output and Weights at particular iteration: \n",
            "0\n",
            "Output:  [1 1 1 1] Weights:  [-0.25005838 -0.2499776   0.74991194]\n",
            "\n",
            "1\n",
            "Output:  [0 0 0 0] Weights:  [-5.83810722e-05  2.23991734e-05  4.99911943e-01]\n",
            "\n",
            "2\n",
            "Output:  [0 0 0 0] Weights:  [0.24994162 0.2500224  0.24991194]\n",
            "\n",
            "3\n",
            "Output:  [0 1 1 1] Weights:  [-5.83810722e-05  2.23991734e-05  7.49911943e-01]\n",
            "\n",
            "4\n",
            "Output:  [0 0 0 0] Weights:  [0.24994162 0.2500224  0.49991194]\n",
            "\n",
            "5\n",
            "Output:  [0 0 0 1] Weights:  [0.24994162 0.2500224  0.49991194]\n",
            "\n",
            "6\n",
            "Output:  [0 0 0 1] Weights:  [0.24994162 0.2500224  0.49991194]\n",
            "\n",
            "7\n",
            "Output:  [0 0 0 1] Weights:  [0.24994162 0.2500224  0.49991194]\n",
            "\n",
            "8\n",
            "Output:  [0 0 0 1] Weights:  [0.24994162 0.2500224  0.49991194]\n",
            "\n",
            "9\n",
            "Output:  [0 0 0 1] Weights:  [0.24994162 0.2500224  0.49991194]\n",
            "\n"
          ]
        }
      ]
    },
    {
      "cell_type": "markdown",
      "source": [
        "As, we can see the weights stop updating from 5th iteration because that's when we reached the desired output so the loss would be 0. "
      ],
      "metadata": {
        "id": "wDstV3YcgjfQ"
      }
    },
    {
      "cell_type": "markdown",
      "source": [
        "Let's change the learning rate with different scale. We will intialise random weights again else it will start through the current one."
      ],
      "metadata": {
        "id": "yKkrejqIhMxW"
      }
    },
    {
      "cell_type": "code",
      "source": [
        "w = np.random.randn(3)*1e-4\n",
        "w = train(data, target, w, 10, 10)"
      ],
      "metadata": {
        "id": "f1lATJo0hXu7"
      },
      "execution_count": 37,
      "outputs": []
    },
    {
      "cell_type": "markdown",
      "source": [
        "We got the desired output at 7th iteration with the learning rate as 10."
      ],
      "metadata": {
        "id": "SM_SjIArhf0R"
      }
    },
    {
      "cell_type": "markdown",
      "source": [
        "Let's experiment with learning rate which is so less."
      ],
      "metadata": {
        "id": "ivNtW3swhmdw"
      }
    },
    {
      "cell_type": "code",
      "source": [
        "w = np.random.randn(3)*1e-4\n",
        "w = train(data, target, w, 0.00001, 10)"
      ],
      "metadata": {
        "colab": {
          "base_uri": "https://localhost:8080/"
        },
        "id": "C3kATnKqhlr-",
        "outputId": "04ed8dfb-4fbb-4d89-871a-39e629e074dd"
      },
      "execution_count": 39,
      "outputs": [
        {
          "output_type": "stream",
          "name": "stdout",
          "text": [
            "Output and Weights at particular iteration: \n",
            "0\n",
            "Output:  [0 0 1 1] Weights:  [ 2.18614589e-04 -6.90725304e-05  1.43275103e-04]\n",
            "\n",
            "1\n",
            "Output:  [0 0 1 1] Weights:  [ 2.08614589e-04 -6.90725304e-05  1.53275103e-04]\n",
            "\n",
            "2\n",
            "Output:  [0 0 1 0] Weights:  [ 2.08614589e-04 -5.90725304e-05  1.53275103e-04]\n",
            "\n",
            "3\n",
            "Output:  [0 0 1 0] Weights:  [ 2.08614589e-04 -4.90725304e-05  1.53275103e-04]\n",
            "\n",
            "4\n",
            "Output:  [0 0 1 1] Weights:  [ 1.98614589e-04 -4.90725304e-05  1.63275103e-04]\n",
            "\n",
            "5\n",
            "Output:  [0 0 1 0] Weights:  [ 1.98614589e-04 -3.90725304e-05  1.63275103e-04]\n",
            "\n",
            "6\n",
            "Output:  [0 0 1 0] Weights:  [ 1.98614589e-04 -2.90725304e-05  1.63275103e-04]\n",
            "\n",
            "7\n",
            "Output:  [0 0 1 1] Weights:  [ 1.88614589e-04 -2.90725304e-05  1.73275103e-04]\n",
            "\n",
            "8\n",
            "Output:  [0 0 1 0] Weights:  [ 1.88614589e-04 -1.90725304e-05  1.73275103e-04]\n",
            "\n",
            "9\n",
            "Output:  [0 0 1 0] Weights:  [ 1.88614589e-04 -9.07253042e-06  1.73275103e-04]\n",
            "\n"
          ]
        }
      ]
    },
    {
      "cell_type": "markdown",
      "source": [
        "Despite many iteration it still didn't generate the desired output. Because the learning is slow and updation of weight is also very small as well. There won't be big jump from first iteration to second in terms of loss because there's not much difference in weight."
      ],
      "metadata": {
        "id": "1kivfCvThwyF"
      }
    },
    {
      "cell_type": "markdown",
      "source": [
        "# OR Gate"
      ],
      "metadata": {
        "id": "sNbZl-mzi11t"
      }
    },
    {
      "cell_type": "markdown",
      "source": [
        "Let's train our network on different dataset. We will use OR gate dataset for this and follow the same steps we did for AND"
      ],
      "metadata": {
        "id": "gLs2ZIyki687"
      }
    },
    {
      "cell_type": "code",
      "source": [
        "OR = pd.DataFrame({'x1': (0,0,1,1), 'x2': (0,1,0,1), 'y': (0,1,1,1)})\n",
        "OR"
      ],
      "metadata": {
        "colab": {
          "base_uri": "https://localhost:8080/",
          "height": 175
        },
        "id": "d_TeGweji6A0",
        "outputId": "3b01335b-84fb-4b49-c539-b02ad8216cb6"
      },
      "execution_count": 41,
      "outputs": [
        {
          "output_type": "execute_result",
          "data": {
            "text/plain": [
              "   x1  x2  y\n",
              "0   0   0  0\n",
              "1   0   1  1\n",
              "2   1   0  1\n",
              "3   1   1  1"
            ],
            "text/html": [
              "\n",
              "  <div id=\"df-e03de437-afa7-4bd2-9f95-d9f33473d4bc\">\n",
              "    <div class=\"colab-df-container\">\n",
              "      <div>\n",
              "<style scoped>\n",
              "    .dataframe tbody tr th:only-of-type {\n",
              "        vertical-align: middle;\n",
              "    }\n",
              "\n",
              "    .dataframe tbody tr th {\n",
              "        vertical-align: top;\n",
              "    }\n",
              "\n",
              "    .dataframe thead th {\n",
              "        text-align: right;\n",
              "    }\n",
              "</style>\n",
              "<table border=\"1\" class=\"dataframe\">\n",
              "  <thead>\n",
              "    <tr style=\"text-align: right;\">\n",
              "      <th></th>\n",
              "      <th>x1</th>\n",
              "      <th>x2</th>\n",
              "      <th>y</th>\n",
              "    </tr>\n",
              "  </thead>\n",
              "  <tbody>\n",
              "    <tr>\n",
              "      <th>0</th>\n",
              "      <td>0</td>\n",
              "      <td>0</td>\n",
              "      <td>0</td>\n",
              "    </tr>\n",
              "    <tr>\n",
              "      <th>1</th>\n",
              "      <td>0</td>\n",
              "      <td>1</td>\n",
              "      <td>1</td>\n",
              "    </tr>\n",
              "    <tr>\n",
              "      <th>2</th>\n",
              "      <td>1</td>\n",
              "      <td>0</td>\n",
              "      <td>1</td>\n",
              "    </tr>\n",
              "    <tr>\n",
              "      <th>3</th>\n",
              "      <td>1</td>\n",
              "      <td>1</td>\n",
              "      <td>1</td>\n",
              "    </tr>\n",
              "  </tbody>\n",
              "</table>\n",
              "</div>\n",
              "      <button class=\"colab-df-convert\" onclick=\"convertToInteractive('df-e03de437-afa7-4bd2-9f95-d9f33473d4bc')\"\n",
              "              title=\"Convert this dataframe to an interactive table.\"\n",
              "              style=\"display:none;\">\n",
              "        \n",
              "  <svg xmlns=\"http://www.w3.org/2000/svg\" height=\"24px\"viewBox=\"0 0 24 24\"\n",
              "       width=\"24px\">\n",
              "    <path d=\"M0 0h24v24H0V0z\" fill=\"none\"/>\n",
              "    <path d=\"M18.56 5.44l.94 2.06.94-2.06 2.06-.94-2.06-.94-.94-2.06-.94 2.06-2.06.94zm-11 1L8.5 8.5l.94-2.06 2.06-.94-2.06-.94L8.5 2.5l-.94 2.06-2.06.94zm10 10l.94 2.06.94-2.06 2.06-.94-2.06-.94-.94-2.06-.94 2.06-2.06.94z\"/><path d=\"M17.41 7.96l-1.37-1.37c-.4-.4-.92-.59-1.43-.59-.52 0-1.04.2-1.43.59L10.3 9.45l-7.72 7.72c-.78.78-.78 2.05 0 2.83L4 21.41c.39.39.9.59 1.41.59.51 0 1.02-.2 1.41-.59l7.78-7.78 2.81-2.81c.8-.78.8-2.07 0-2.86zM5.41 20L4 18.59l7.72-7.72 1.47 1.35L5.41 20z\"/>\n",
              "  </svg>\n",
              "      </button>\n",
              "      \n",
              "  <style>\n",
              "    .colab-df-container {\n",
              "      display:flex;\n",
              "      flex-wrap:wrap;\n",
              "      gap: 12px;\n",
              "    }\n",
              "\n",
              "    .colab-df-convert {\n",
              "      background-color: #E8F0FE;\n",
              "      border: none;\n",
              "      border-radius: 50%;\n",
              "      cursor: pointer;\n",
              "      display: none;\n",
              "      fill: #1967D2;\n",
              "      height: 32px;\n",
              "      padding: 0 0 0 0;\n",
              "      width: 32px;\n",
              "    }\n",
              "\n",
              "    .colab-df-convert:hover {\n",
              "      background-color: #E2EBFA;\n",
              "      box-shadow: 0px 1px 2px rgba(60, 64, 67, 0.3), 0px 1px 3px 1px rgba(60, 64, 67, 0.15);\n",
              "      fill: #174EA6;\n",
              "    }\n",
              "\n",
              "    [theme=dark] .colab-df-convert {\n",
              "      background-color: #3B4455;\n",
              "      fill: #D2E3FC;\n",
              "    }\n",
              "\n",
              "    [theme=dark] .colab-df-convert:hover {\n",
              "      background-color: #434B5C;\n",
              "      box-shadow: 0px 1px 3px 1px rgba(0, 0, 0, 0.15);\n",
              "      filter: drop-shadow(0px 1px 2px rgba(0, 0, 0, 0.3));\n",
              "      fill: #FFFFFF;\n",
              "    }\n",
              "  </style>\n",
              "\n",
              "      <script>\n",
              "        const buttonEl =\n",
              "          document.querySelector('#df-e03de437-afa7-4bd2-9f95-d9f33473d4bc button.colab-df-convert');\n",
              "        buttonEl.style.display =\n",
              "          google.colab.kernel.accessAllowed ? 'block' : 'none';\n",
              "\n",
              "        async function convertToInteractive(key) {\n",
              "          const element = document.querySelector('#df-e03de437-afa7-4bd2-9f95-d9f33473d4bc');\n",
              "          const dataTable =\n",
              "            await google.colab.kernel.invokeFunction('convertToInteractive',\n",
              "                                                     [key], {});\n",
              "          if (!dataTable) return;\n",
              "\n",
              "          const docLinkHtml = 'Like what you see? Visit the ' +\n",
              "            '<a target=\"_blank\" href=https://colab.research.google.com/notebooks/data_table.ipynb>data table notebook</a>'\n",
              "            + ' to learn more about interactive tables.';\n",
              "          element.innerHTML = '';\n",
              "          dataTable['output_type'] = 'display_data';\n",
              "          await google.colab.output.renderOutput(dataTable, element);\n",
              "          const docLink = document.createElement('div');\n",
              "          docLink.innerHTML = docLinkHtml;\n",
              "          element.appendChild(docLink);\n",
              "        }\n",
              "      </script>\n",
              "    </div>\n",
              "  </div>\n",
              "  "
            ]
          },
          "metadata": {},
          "execution_count": 41
        }
      ]
    },
    {
      "cell_type": "code",
      "source": [
        "w = np.random.randn(3)*1e-4"
      ],
      "metadata": {
        "id": "vDl9Cg2vjL-f"
      },
      "execution_count": 42,
      "outputs": []
    },
    {
      "cell_type": "code",
      "source": [
        "def train(data, targets, weights, lr, n_iterations):\n",
        "\n",
        "    # Adding the bias term\n",
        "    data = np.c_[data, -np.ones((len(data), 1))]\n",
        "    for n in range(n_iterations):\n",
        "\n",
        "        activations = g(data, weights)\n",
        "        weights -= lr*np.dot(np.transpose(data), activations - targets)\n",
        "        \n",
        "    return(weights)"
      ],
      "metadata": {
        "id": "xF7G9DQLjW-i"
      },
      "execution_count": 45,
      "outputs": []
    },
    {
      "cell_type": "code",
      "source": [
        "inputs = OR[['x1','x2']]\n",
        "target = OR['y']\n",
        "\n",
        "w = train(inputs, target, w, 0.25, 20)"
      ],
      "metadata": {
        "id": "pc2Cd7x_jObL"
      },
      "execution_count": 46,
      "outputs": []
    },
    {
      "cell_type": "code",
      "source": [
        "g(np.c_[inputs, -np.ones((len(inputs), 1))], w)"
      ],
      "metadata": {
        "colab": {
          "base_uri": "https://localhost:8080/"
        },
        "id": "_CP3UadHjQ-n",
        "outputId": "434bd14b-bd70-4406-a79d-d45489fecec3"
      },
      "execution_count": 66,
      "outputs": [
        {
          "output_type": "execute_result",
          "data": {
            "text/plain": [
              "array([0, 0, 0, 0])"
            ]
          },
          "metadata": {},
          "execution_count": 66
        }
      ]
    },
    {
      "cell_type": "markdown",
      "source": [
        "The output is generated as desired."
      ],
      "metadata": {
        "id": "YiuDCjNcjb9t"
      }
    }
  ]
}